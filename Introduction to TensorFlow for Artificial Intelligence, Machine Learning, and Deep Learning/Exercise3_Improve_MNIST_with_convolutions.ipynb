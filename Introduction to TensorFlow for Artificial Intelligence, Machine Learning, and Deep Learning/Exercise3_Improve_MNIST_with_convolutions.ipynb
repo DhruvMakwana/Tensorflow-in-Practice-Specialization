{
 "cells": [
  {
   "cell_type": "markdown",
   "metadata": {
    "colab_type": "text",
    "id": "iQjHqsmTAVLU"
   },
   "source": [
    "## Exercise 3\n",
    "In the videos you looked at how you would improve Fashion MNIST using Convolutions. For your exercise see if you can improve MNIST to 99.8% accuracy or more using only a single convolutional layer and a single MaxPooling 2D. You should stop training once the accuracy goes above this amount. It should happen in less than 20 epochs, so it's ok to hard code the number of epochs for training, but your training must end once it hits the above metric. If it doesn't, then you'll need to redesign your layers.\n",
    "\n",
    "I've started the code for you -- you need to finish it!\n",
    "\n",
    "When 99.8% accuracy has been hit, you should print out the string \"Reached 99.8% accuracy so cancelling training!\"\n"
   ]
  },
  {
   "cell_type": "code",
   "execution_count": 5,
   "metadata": {},
   "outputs": [
    {
     "name": "stdout",
     "output_type": "stream",
     "text": [
      "1.14.0\n",
      "training image shape:(60000, 28, 28) test image shape:(10000, 28, 28)\n",
      "Model: \"sequential_1\"\n",
      "_________________________________________________________________\n",
      "Layer (type)                 Output Shape              Param #   \n",
      "=================================================================\n",
      "conv2d_2 (Conv2D)            (None, 26, 26, 64)        640       \n",
      "_________________________________________________________________\n",
      "max_pooling2d_2 (MaxPooling2 (None, 13, 13, 64)        0         \n",
      "_________________________________________________________________\n",
      "flatten_1 (Flatten)          (None, 10816)             0         \n",
      "_________________________________________________________________\n",
      "dense_2 (Dense)              (None, 524)               5668108   \n",
      "_________________________________________________________________\n",
      "dense_3 (Dense)              (None, 10)                5250      \n",
      "=================================================================\n",
      "Total params: 5,673,998\n",
      "Trainable params: 5,673,998\n",
      "Non-trainable params: 0\n",
      "_________________________________________________________________\n",
      "Epoch 1/20\n",
      "60000/60000 [==============================] - 18s 307us/sample - loss: 0.1182 - acc: 0.9635\n",
      "Epoch 2/20\n",
      "60000/60000 [==============================] - 18s 302us/sample - loss: 0.0376 - acc: 0.9883\n",
      "Epoch 3/20\n",
      "60000/60000 [==============================] - 18s 302us/sample - loss: 0.0204 - acc: 0.9932\n",
      "Epoch 4/20\n",
      "60000/60000 [==============================] - 18s 302us/sample - loss: 0.0137 - acc: 0.9953\n",
      "Epoch 5/20\n",
      "60000/60000 [==============================] - 18s 303us/sample - loss: 0.0091 - acc: 0.9966\n",
      "Epoch 6/20\n",
      "60000/60000 [==============================] - 18s 302us/sample - loss: 0.0068 - acc: 0.9977\n",
      "Epoch 7/20\n",
      "60000/60000 [==============================] - 18s 302us/sample - loss: 0.0065 - acc: 0.9979\n",
      "Epoch 8/20\n",
      "59872/60000 [============================>.] - ETA: 0s - loss: 0.0043 - acc: 0.9986\n",
      "Reached 99.8% accuracy so cancelling training!\n",
      "60000/60000 [==============================] - 18s 301us/sample - loss: 0.0043 - acc: 0.9986\n",
      "10000/10000 [==============================] - 2s 181us/sample - loss: 0.0494 - acc: 0.9880\n"
     ]
    }
   ],
   "source": [
    "import tensorflow as tf\n",
    "print(tf.__version__)\n",
    "\n",
    "# YOUR CODE STARTS HERE\n",
    "class myCallback(tf.keras.callbacks.Callback):\n",
    "    def on_epoch_end(self, epoch, logs={}):\n",
    "        if(logs.get('acc') > .998):\n",
    "            print(\"\\nReached 99.8% accuracy so cancelling training!\")\n",
    "            self.model.stop_training = True\n",
    "\n",
    "callbacks = myCallback() \n",
    "# YOUR CODE ENDS HERE\n",
    "\n",
    "mnist = tf.keras.datasets.mnist\n",
    "(training_images, training_labels), (test_images, test_labels) = mnist.load_data()\n",
    "\n",
    "# check training and test image size\n",
    "print(\"training image shape:{0} test image shape:{1}\".format(training_images.shape,test_images.shape))\n",
    "\n",
    "# YOUR CODE STARTS HERE\n",
    "training_images = training_images.reshape(training_images.shape[0],training_images.shape[1],training_images.shape[2],1)\n",
    "training_images = training_images/255.0\n",
    "test_images = test_images.reshape(test_images.shape[0],test_images.shape[1],test_images.shape[2],1)\n",
    "test_images = test_images/255.0\n",
    "# YOUR CODE ENDS HERE\n",
    "\n",
    "model = tf.keras.models.Sequential()\n",
    "# YOUR CODE STARTS HERE\n",
    "model.add(tf.keras.layers.Conv2D(64,(3,3),activation='relu',input_shape=(28,28,1)))\n",
    "model.add(tf.keras.layers.MaxPooling2D(2,2))\n",
    "model.add(tf.keras.layers.Flatten())\n",
    "model.add(tf.keras.layers.Dense(524,activation='relu'))\n",
    "model.add(tf.keras.layers.Dense(10,activation='softmax'))\n",
    "          \n",
    "# YOUR CODE ENDS HERE\n",
    "\n",
    "# YOUR CODE STARTS HERE\n",
    "model.compile(optimizer='adam',loss='sparse_categorical_crossentropy',metrics=['accuracy'])\n",
    "model.summary()\n",
    "model.fit(training_images,training_labels,epochs=20,callbacks=[callbacks])\n",
    "# YOUR CODE ENDS HERE\n",
    "\n",
    "test_loss = model.evaluate(test_images, test_labels)"
   ]
  },
  {
   "cell_type": "code",
   "execution_count": null,
   "metadata": {},
   "outputs": [],
   "source": []
  }
 ],
 "metadata": {
  "coursera": {
   "course_slug": "introduction-tensorflow",
   "graded_item_id": "ml06H",
   "launcher_item_id": "hQF8A"
  },
  "kernelspec": {
   "display_name": "Python 3",
   "language": "python",
   "name": "python3"
  },
  "language_info": {
   "codemirror_mode": {
    "name": "ipython",
    "version": 3
   },
   "file_extension": ".py",
   "mimetype": "text/x-python",
   "name": "python",
   "nbconvert_exporter": "python",
   "pygments_lexer": "ipython3",
   "version": "3.6.8"
  }
 },
 "nbformat": 4,
 "nbformat_minor": 1
}
