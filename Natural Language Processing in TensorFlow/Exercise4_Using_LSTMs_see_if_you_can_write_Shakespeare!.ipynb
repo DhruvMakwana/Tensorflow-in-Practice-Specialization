{
  "nbformat": 4,
  "nbformat_minor": 0,
  "metadata": {
    "colab": {
      "name": "NLP-Week4-Exercise-Shakespeare-Question.ipynb",
      "provenance": []
    },
    "kernelspec": {
      "name": "python3",
      "display_name": "Python 3"
    },
    "accelerator": "GPU"
  },
  "cells": [
    {
      "cell_type": "code",
      "metadata": {
        "id": "BOwsuGQQY9OL",
        "colab_type": "code",
        "colab": {
          "base_uri": "https://localhost:8080/",
          "height": 63
        },
        "outputId": "9efce504-e0a1-47ef-94bf-5c9151d34800"
      },
      "source": [
        "from tensorflow.keras.preprocessing.sequence import pad_sequences\n",
        "from tensorflow.keras.layers import Embedding, LSTM, Dense, Dropout, Bidirectional\n",
        "from tensorflow.keras.preprocessing.text import Tokenizer\n",
        "from tensorflow.keras.models import Sequential\n",
        "from tensorflow.keras.optimizers import Adam\n",
        "### YOUR CODE HERE\n",
        "# Figure out how to import regularizers\n",
        "from tensorflow.keras import regularizers\n",
        "###\n",
        "import tensorflow.keras.utils as ku \n",
        "import numpy as np "
      ],
      "execution_count": 1,
      "outputs": [
        {
          "output_type": "display_data",
          "data": {
            "text/html": [
              "<p style=\"color: red;\">\n",
              "The default version of TensorFlow in Colab will soon switch to TensorFlow 2.x.<br>\n",
              "We recommend you <a href=\"https://www.tensorflow.org/guide/migrate\" target=\"_blank\">upgrade</a> now \n",
              "or ensure your notebook will continue to use TensorFlow 1.x via the <code>%tensorflow_version 1.x</code> magic:\n",
              "<a href=\"https://colab.research.google.com/notebooks/tensorflow_version.ipynb\" target=\"_blank\">more info</a>.</p>\n"
            ],
            "text/plain": [
              "<IPython.core.display.HTML object>"
            ]
          },
          "metadata": {
            "tags": []
          }
        }
      ]
    },
    {
      "cell_type": "code",
      "metadata": {
        "colab_type": "code",
        "id": "PRnDnCW-Z7qv",
        "colab": {
          "base_uri": "https://localhost:8080/",
          "height": 204
        },
        "outputId": "3178b753-700c-4b74-9672-9858eb4debce"
      },
      "source": [
        "tokenizer = Tokenizer()\n",
        "!wget --no-check-certificate \\\n",
        "    https://storage.googleapis.com/laurencemoroney-blog.appspot.com/sonnets.txt \\\n",
        "    -O /tmp/sonnets.txt\n",
        "data = open('/tmp/sonnets.txt').read()\n",
        "\n",
        "corpus = data.lower().split(\"\\n\")\n",
        "\n",
        "\n",
        "tokenizer.fit_on_texts(corpus)\n",
        "total_words = len(tokenizer.word_index) + 1\n",
        "\n",
        "# create input sequences using list of tokens\n",
        "input_sequences = []\n",
        "for line in corpus:\n",
        "\ttoken_list = tokenizer.texts_to_sequences([line])[0]\n",
        "\tfor i in range(1, len(token_list)):\n",
        "\t\tn_gram_sequence = token_list[:i+1]\n",
        "\t\tinput_sequences.append(n_gram_sequence)\n",
        "\n",
        "\n",
        "# pad sequences \n",
        "max_sequence_len = max([len(x) for x in input_sequences])\n",
        "input_sequences = np.array(pad_sequences(input_sequences, maxlen=max_sequence_len, padding='pre'))\n",
        "\n",
        "# create predictors and label\n",
        "predictors, label = input_sequences[:,:-1],input_sequences[:,-1]\n",
        "\n",
        "label = ku.to_categorical(label, num_classes=total_words)"
      ],
      "execution_count": 2,
      "outputs": [
        {
          "output_type": "stream",
          "text": [
            "--2019-12-21 13:50:55--  https://storage.googleapis.com/laurencemoroney-blog.appspot.com/sonnets.txt\n",
            "Resolving storage.googleapis.com (storage.googleapis.com)... 172.217.218.128, 2a00:1450:4013:c00::80\n",
            "Connecting to storage.googleapis.com (storage.googleapis.com)|172.217.218.128|:443... connected.\n",
            "HTTP request sent, awaiting response... 200 OK\n",
            "Length: 93578 (91K) [text/plain]\n",
            "Saving to: ‘/tmp/sonnets.txt’\n",
            "\n",
            "\r/tmp/sonnets.txt      0%[                    ]       0  --.-KB/s               \r/tmp/sonnets.txt    100%[===================>]  91.38K  --.-KB/s    in 0.001s  \n",
            "\n",
            "2019-12-21 13:50:55 (155 MB/s) - ‘/tmp/sonnets.txt’ saved [93578/93578]\n",
            "\n"
          ],
          "name": "stdout"
        }
      ]
    },
    {
      "cell_type": "code",
      "metadata": {
        "id": "w9vH8Y59ajYL",
        "colab_type": "code",
        "colab": {
          "base_uri": "https://localhost:8080/",
          "height": 649
        },
        "outputId": "fd844973-458d-48fd-a9b2-48eefa56f970"
      },
      "source": [
        "model = Sequential()\n",
        "model.add(Embedding(total_words, 100, input_length=max_sequence_len-1))\n",
        "model.add(Bidirectional(LSTM(150, return_sequences = True)))\n",
        "model.add(Dropout(0.2))\n",
        "model.add(LSTM(100))\n",
        "model.add(Dense(total_words/2, activation='relu', kernel_regularizer=regularizers.l2(0.01)))\n",
        "model.add(Dense(total_words, activation='softmax'))\n",
        "model.compile(loss='categorical_crossentropy', optimizer='adam', metrics=['accuracy'])\n",
        "print(model.summary())"
      ],
      "execution_count": 3,
      "outputs": [
        {
          "output_type": "stream",
          "text": [
            "WARNING:tensorflow:From /usr/local/lib/python3.6/dist-packages/tensorflow_core/python/keras/initializers.py:119: calling RandomUniform.__init__ (from tensorflow.python.ops.init_ops) with dtype is deprecated and will be removed in a future version.\n",
            "Instructions for updating:\n",
            "Call initializer instance with the dtype argument instead of passing it to the constructor\n",
            "WARNING:tensorflow:From /usr/local/lib/python3.6/dist-packages/tensorflow_core/python/ops/resource_variable_ops.py:1630: calling BaseResourceVariable.__init__ (from tensorflow.python.ops.resource_variable_ops) with constraint is deprecated and will be removed in a future version.\n",
            "Instructions for updating:\n",
            "If using Keras pass *_constraint arguments to layers.\n",
            "WARNING:tensorflow:From /usr/local/lib/python3.6/dist-packages/tensorflow_core/python/ops/init_ops.py:97: calling GlorotUniform.__init__ (from tensorflow.python.ops.init_ops) with dtype is deprecated and will be removed in a future version.\n",
            "Instructions for updating:\n",
            "Call initializer instance with the dtype argument instead of passing it to the constructor\n",
            "WARNING:tensorflow:From /usr/local/lib/python3.6/dist-packages/tensorflow_core/python/ops/init_ops.py:97: calling Orthogonal.__init__ (from tensorflow.python.ops.init_ops) with dtype is deprecated and will be removed in a future version.\n",
            "Instructions for updating:\n",
            "Call initializer instance with the dtype argument instead of passing it to the constructor\n",
            "WARNING:tensorflow:From /usr/local/lib/python3.6/dist-packages/tensorflow_core/python/ops/init_ops.py:97: calling Zeros.__init__ (from tensorflow.python.ops.init_ops) with dtype is deprecated and will be removed in a future version.\n",
            "Instructions for updating:\n",
            "Call initializer instance with the dtype argument instead of passing it to the constructor\n",
            "Model: \"sequential\"\n",
            "_________________________________________________________________\n",
            "Layer (type)                 Output Shape              Param #   \n",
            "=================================================================\n",
            "embedding (Embedding)        (None, 10, 100)           321100    \n",
            "_________________________________________________________________\n",
            "bidirectional (Bidirectional (None, 10, 300)           301200    \n",
            "_________________________________________________________________\n",
            "dropout (Dropout)            (None, 10, 300)           0         \n",
            "_________________________________________________________________\n",
            "lstm_1 (LSTM)                (None, 100)               160400    \n",
            "_________________________________________________________________\n",
            "dense (Dense)                (None, 1605)              162105    \n",
            "_________________________________________________________________\n",
            "dense_1 (Dense)              (None, 3211)              5156866   \n",
            "=================================================================\n",
            "Total params: 6,101,671\n",
            "Trainable params: 6,101,671\n",
            "Non-trainable params: 0\n",
            "_________________________________________________________________\n",
            "None\n"
          ],
          "name": "stdout"
        }
      ]
    },
    {
      "cell_type": "code",
      "metadata": {
        "id": "AIg2f1HBxqof",
        "colab_type": "code",
        "colab": {
          "base_uri": "https://localhost:8080/",
          "height": 1000
        },
        "outputId": "e61c3c4d-4edb-4673-b03c-5e88488f8754"
      },
      "source": [
        " history = model.fit(predictors, label, epochs=100, verbose=1)"
      ],
      "execution_count": 4,
      "outputs": [
        {
          "output_type": "stream",
          "text": [
            "WARNING:tensorflow:From /usr/local/lib/python3.6/dist-packages/tensorflow_core/python/ops/math_grad.py:1424: where (from tensorflow.python.ops.array_ops) is deprecated and will be removed in a future version.\n",
            "Instructions for updating:\n",
            "Use tf.where in 2.0, which has the same broadcast rule as np.where\n",
            "Train on 15462 samples\n",
            "Epoch 1/100\n",
            "15462/15462 [==============================] - 24s 2ms/sample - loss: 6.9117 - acc: 0.0213\n",
            "Epoch 2/100\n",
            "15462/15462 [==============================] - 21s 1ms/sample - loss: 6.4973 - acc: 0.0217\n",
            "Epoch 3/100\n",
            "15462/15462 [==============================] - 21s 1ms/sample - loss: 6.3895 - acc: 0.0261\n",
            "Epoch 4/100\n",
            "15462/15462 [==============================] - 21s 1ms/sample - loss: 6.2725 - acc: 0.0299\n",
            "Epoch 5/100\n",
            "15462/15462 [==============================] - 21s 1ms/sample - loss: 6.1751 - acc: 0.0367\n",
            "Epoch 6/100\n",
            "15462/15462 [==============================] - 21s 1ms/sample - loss: 6.0870 - acc: 0.0391\n",
            "Epoch 7/100\n",
            "15462/15462 [==============================] - 21s 1ms/sample - loss: 6.0043 - acc: 0.0406\n",
            "Epoch 8/100\n",
            "15462/15462 [==============================] - 21s 1ms/sample - loss: 5.9197 - acc: 0.0435\n",
            "Epoch 9/100\n",
            "15462/15462 [==============================] - 21s 1ms/sample - loss: 5.8186 - acc: 0.0510\n",
            "Epoch 10/100\n",
            "15462/15462 [==============================] - 21s 1ms/sample - loss: 5.7065 - acc: 0.0571\n",
            "Epoch 11/100\n",
            "15462/15462 [==============================] - 21s 1ms/sample - loss: 5.5941 - acc: 0.0642\n",
            "Epoch 12/100\n",
            "15462/15462 [==============================] - 21s 1ms/sample - loss: 5.4773 - acc: 0.0702\n",
            "Epoch 13/100\n",
            "15462/15462 [==============================] - 21s 1ms/sample - loss: 5.3699 - acc: 0.0768\n",
            "Epoch 14/100\n",
            "15462/15462 [==============================] - 21s 1ms/sample - loss: 5.2609 - acc: 0.0806\n",
            "Epoch 15/100\n",
            "15462/15462 [==============================] - 21s 1ms/sample - loss: 5.1535 - acc: 0.0884\n",
            "Epoch 16/100\n",
            "15462/15462 [==============================] - 21s 1ms/sample - loss: 5.0551 - acc: 0.0973\n",
            "Epoch 17/100\n",
            "15462/15462 [==============================] - 21s 1ms/sample - loss: 4.9472 - acc: 0.1074\n",
            "Epoch 18/100\n",
            "15462/15462 [==============================] - 21s 1ms/sample - loss: 4.8461 - acc: 0.1157\n",
            "Epoch 19/100\n",
            "15462/15462 [==============================] - 21s 1ms/sample - loss: 4.7496 - acc: 0.1264\n",
            "Epoch 20/100\n",
            "15462/15462 [==============================] - 21s 1ms/sample - loss: 4.6487 - acc: 0.1361\n",
            "Epoch 21/100\n",
            "15462/15462 [==============================] - 21s 1ms/sample - loss: 4.5503 - acc: 0.1435\n",
            "Epoch 22/100\n",
            "15462/15462 [==============================] - 20s 1ms/sample - loss: 4.4491 - acc: 0.1552\n",
            "Epoch 23/100\n",
            "15462/15462 [==============================] - 21s 1ms/sample - loss: 4.3549 - acc: 0.1665\n",
            "Epoch 24/100\n",
            "15462/15462 [==============================] - 21s 1ms/sample - loss: 4.2593 - acc: 0.1780\n",
            "Epoch 25/100\n",
            "15462/15462 [==============================] - 21s 1ms/sample - loss: 4.1578 - acc: 0.1914\n",
            "Epoch 26/100\n",
            "15462/15462 [==============================] - 21s 1ms/sample - loss: 4.0583 - acc: 0.2031\n",
            "Epoch 27/100\n",
            "15462/15462 [==============================] - 21s 1ms/sample - loss: 3.9650 - acc: 0.2144\n",
            "Epoch 28/100\n",
            "15462/15462 [==============================] - 21s 1ms/sample - loss: 3.8686 - acc: 0.2321\n",
            "Epoch 29/100\n",
            "15462/15462 [==============================] - 21s 1ms/sample - loss: 3.7826 - acc: 0.2474\n",
            "Epoch 30/100\n",
            "15462/15462 [==============================] - 20s 1ms/sample - loss: 3.6775 - acc: 0.2607\n",
            "Epoch 31/100\n",
            "15462/15462 [==============================] - 20s 1ms/sample - loss: 3.6106 - acc: 0.2744\n",
            "Epoch 32/100\n",
            "15462/15462 [==============================] - 21s 1ms/sample - loss: 3.5100 - acc: 0.2946\n",
            "Epoch 33/100\n",
            "15462/15462 [==============================] - 21s 1ms/sample - loss: 3.4223 - acc: 0.3126\n",
            "Epoch 34/100\n",
            "15462/15462 [==============================] - 21s 1ms/sample - loss: 3.3549 - acc: 0.3296\n",
            "Epoch 35/100\n",
            "15462/15462 [==============================] - 20s 1ms/sample - loss: 3.2701 - acc: 0.3448\n",
            "Epoch 36/100\n",
            "15462/15462 [==============================] - 21s 1ms/sample - loss: 3.1919 - acc: 0.3593\n",
            "Epoch 37/100\n",
            "15462/15462 [==============================] - 20s 1ms/sample - loss: 3.1052 - acc: 0.3824\n",
            "Epoch 38/100\n",
            "15462/15462 [==============================] - 21s 1ms/sample - loss: 3.0463 - acc: 0.3982\n",
            "Epoch 39/100\n",
            "15462/15462 [==============================] - 20s 1ms/sample - loss: 2.9694 - acc: 0.4142\n",
            "Epoch 40/100\n",
            "15462/15462 [==============================] - 21s 1ms/sample - loss: 2.9098 - acc: 0.4291\n",
            "Epoch 41/100\n",
            "15462/15462 [==============================] - 21s 1ms/sample - loss: 2.8465 - acc: 0.4395\n",
            "Epoch 42/100\n",
            "15462/15462 [==============================] - 21s 1ms/sample - loss: 2.7692 - acc: 0.4587\n",
            "Epoch 43/100\n",
            "15462/15462 [==============================] - 21s 1ms/sample - loss: 2.7142 - acc: 0.4697\n",
            "Epoch 44/100\n",
            "15462/15462 [==============================] - 21s 1ms/sample - loss: 2.6585 - acc: 0.4860\n",
            "Epoch 45/100\n",
            "15462/15462 [==============================] - 20s 1ms/sample - loss: 2.5976 - acc: 0.4970\n",
            "Epoch 46/100\n",
            "15462/15462 [==============================] - 21s 1ms/sample - loss: 2.5442 - acc: 0.5119\n",
            "Epoch 47/100\n",
            "15462/15462 [==============================] - 21s 1ms/sample - loss: 2.4804 - acc: 0.5233\n",
            "Epoch 48/100\n",
            "15462/15462 [==============================] - 20s 1ms/sample - loss: 2.4386 - acc: 0.5347\n",
            "Epoch 49/100\n",
            "15462/15462 [==============================] - 20s 1ms/sample - loss: 2.3807 - acc: 0.5437\n",
            "Epoch 50/100\n",
            "15462/15462 [==============================] - 21s 1ms/sample - loss: 2.3290 - acc: 0.5585\n",
            "Epoch 51/100\n",
            "15462/15462 [==============================] - 20s 1ms/sample - loss: 2.2955 - acc: 0.5697\n",
            "Epoch 52/100\n",
            "15462/15462 [==============================] - 20s 1ms/sample - loss: 2.2504 - acc: 0.5770\n",
            "Epoch 53/100\n",
            "15462/15462 [==============================] - 21s 1ms/sample - loss: 2.1983 - acc: 0.5904\n",
            "Epoch 54/100\n",
            "15462/15462 [==============================] - 20s 1ms/sample - loss: 2.1528 - acc: 0.5992\n",
            "Epoch 55/100\n",
            "15462/15462 [==============================] - 20s 1ms/sample - loss: 2.1255 - acc: 0.6057\n",
            "Epoch 56/100\n",
            "15462/15462 [==============================] - 21s 1ms/sample - loss: 2.0744 - acc: 0.6174\n",
            "Epoch 57/100\n",
            "15462/15462 [==============================] - 21s 1ms/sample - loss: 2.0384 - acc: 0.6224\n",
            "Epoch 58/100\n",
            "15462/15462 [==============================] - 20s 1ms/sample - loss: 1.9955 - acc: 0.6376\n",
            "Epoch 59/100\n",
            "15462/15462 [==============================] - 21s 1ms/sample - loss: 1.9762 - acc: 0.6396\n",
            "Epoch 60/100\n",
            "15462/15462 [==============================] - 21s 1ms/sample - loss: 1.9193 - acc: 0.6519\n",
            "Epoch 61/100\n",
            "15462/15462 [==============================] - 20s 1ms/sample - loss: 1.8868 - acc: 0.6595\n",
            "Epoch 62/100\n",
            "15462/15462 [==============================] - 21s 1ms/sample - loss: 1.8566 - acc: 0.6652\n",
            "Epoch 63/100\n",
            "15462/15462 [==============================] - 21s 1ms/sample - loss: 1.8319 - acc: 0.6726\n",
            "Epoch 64/100\n",
            "15462/15462 [==============================] - 21s 1ms/sample - loss: 1.8052 - acc: 0.6782\n",
            "Epoch 65/100\n",
            "15462/15462 [==============================] - 22s 1ms/sample - loss: 1.7649 - acc: 0.6846\n",
            "Epoch 66/100\n",
            "15462/15462 [==============================] - 21s 1ms/sample - loss: 1.7383 - acc: 0.6901\n",
            "Epoch 67/100\n",
            "15462/15462 [==============================] - 21s 1ms/sample - loss: 1.7168 - acc: 0.6946\n",
            "Epoch 68/100\n",
            "15462/15462 [==============================] - 21s 1ms/sample - loss: 1.6928 - acc: 0.7024\n",
            "Epoch 69/100\n",
            "15462/15462 [==============================] - 20s 1ms/sample - loss: 1.6615 - acc: 0.7024\n",
            "Epoch 70/100\n",
            "15462/15462 [==============================] - 20s 1ms/sample - loss: 1.6247 - acc: 0.7155\n",
            "Epoch 71/100\n",
            "15462/15462 [==============================] - 21s 1ms/sample - loss: 1.6033 - acc: 0.7187\n",
            "Epoch 72/100\n",
            "15462/15462 [==============================] - 21s 1ms/sample - loss: 1.5859 - acc: 0.7216\n",
            "Epoch 73/100\n",
            "15462/15462 [==============================] - 20s 1ms/sample - loss: 1.5731 - acc: 0.7225\n",
            "Epoch 74/100\n",
            "15462/15462 [==============================] - 20s 1ms/sample - loss: 1.5407 - acc: 0.7295\n",
            "Epoch 75/100\n",
            "15462/15462 [==============================] - 20s 1ms/sample - loss: 1.5222 - acc: 0.7328\n",
            "Epoch 76/100\n",
            "15462/15462 [==============================] - 20s 1ms/sample - loss: 1.4949 - acc: 0.7433\n",
            "Epoch 77/100\n",
            "15462/15462 [==============================] - 20s 1ms/sample - loss: 1.4650 - acc: 0.7480\n",
            "Epoch 78/100\n",
            "15462/15462 [==============================] - 20s 1ms/sample - loss: 1.4426 - acc: 0.7520\n",
            "Epoch 79/100\n",
            "15462/15462 [==============================] - 21s 1ms/sample - loss: 1.4472 - acc: 0.7462\n",
            "Epoch 80/100\n",
            "15462/15462 [==============================] - 20s 1ms/sample - loss: 1.4402 - acc: 0.7495\n",
            "Epoch 81/100\n",
            "15462/15462 [==============================] - 20s 1ms/sample - loss: 1.4025 - acc: 0.7579\n",
            "Epoch 82/100\n",
            "15462/15462 [==============================] - 20s 1ms/sample - loss: 1.3829 - acc: 0.7619\n",
            "Epoch 83/100\n",
            "15462/15462 [==============================] - 20s 1ms/sample - loss: 1.3781 - acc: 0.7595\n",
            "Epoch 84/100\n",
            "15462/15462 [==============================] - 20s 1ms/sample - loss: 1.3461 - acc: 0.7674\n",
            "Epoch 85/100\n",
            "15462/15462 [==============================] - 20s 1ms/sample - loss: 1.3377 - acc: 0.7700\n",
            "Epoch 86/100\n",
            "15462/15462 [==============================] - 20s 1ms/sample - loss: 1.3283 - acc: 0.7706\n",
            "Epoch 87/100\n",
            "15462/15462 [==============================] - 21s 1ms/sample - loss: 1.3168 - acc: 0.7670\n",
            "Epoch 88/100\n",
            "15462/15462 [==============================] - 20s 1ms/sample - loss: 1.3131 - acc: 0.7716\n",
            "Epoch 89/100\n",
            "15462/15462 [==============================] - 20s 1ms/sample - loss: 1.2790 - acc: 0.7773\n",
            "Epoch 90/100\n",
            "15462/15462 [==============================] - 20s 1ms/sample - loss: 1.2660 - acc: 0.7796\n",
            "Epoch 91/100\n",
            "15462/15462 [==============================] - 20s 1ms/sample - loss: 1.2561 - acc: 0.7822\n",
            "Epoch 92/100\n",
            "15462/15462 [==============================] - 20s 1ms/sample - loss: 1.2526 - acc: 0.7829\n",
            "Epoch 93/100\n",
            "15462/15462 [==============================] - 20s 1ms/sample - loss: 1.2305 - acc: 0.7848\n",
            "Epoch 94/100\n",
            "15462/15462 [==============================] - 20s 1ms/sample - loss: 1.2090 - acc: 0.7908\n",
            "Epoch 95/100\n",
            "15462/15462 [==============================] - 20s 1ms/sample - loss: 1.2072 - acc: 0.7921\n",
            "Epoch 96/100\n",
            "15462/15462 [==============================] - 20s 1ms/sample - loss: 1.1956 - acc: 0.7956\n",
            "Epoch 97/100\n",
            "15462/15462 [==============================] - 20s 1ms/sample - loss: 1.1884 - acc: 0.7913\n",
            "Epoch 98/100\n",
            "15462/15462 [==============================] - 20s 1ms/sample - loss: 1.1805 - acc: 0.7943\n",
            "Epoch 99/100\n",
            "15462/15462 [==============================] - 20s 1ms/sample - loss: 1.1749 - acc: 0.7944\n",
            "Epoch 100/100\n",
            "15462/15462 [==============================] - 20s 1ms/sample - loss: 1.1561 - acc: 0.7980\n"
          ],
          "name": "stdout"
        }
      ]
    },
    {
      "cell_type": "code",
      "metadata": {
        "id": "1fXTEO3GJ282",
        "colab_type": "code",
        "colab": {
          "base_uri": "https://localhost:8080/",
          "height": 545
        },
        "outputId": "7f5da3ba-3f03-4b48-9611-909e720af548"
      },
      "source": [
        "import matplotlib.pyplot as plt\n",
        "acc = history.history['acc']\n",
        "loss = history.history['loss']\n",
        "\n",
        "epochs = range(len(acc))\n",
        "\n",
        "plt.plot(epochs, acc, 'b', label='Training accuracy')\n",
        "plt.title('Training accuracy')\n",
        "\n",
        "plt.figure()\n",
        "\n",
        "plt.plot(epochs, loss, 'b', label='Training Loss')\n",
        "plt.title('Training loss')\n",
        "plt.legend()\n",
        "\n",
        "plt.show()"
      ],
      "execution_count": 5,
      "outputs": [
        {
          "output_type": "display_data",
          "data": {
            "image/png": "[encoded data removed]",
            "text/plain": [
              "<Figure size 432x288 with 1 Axes>"
            ]
          },
          "metadata": {
            "tags": []
          }
        },
        {
          "output_type": "display_data",
          "data": {
            "image/png": "[encoded data removed]",
            "text/plain": [
              "<Figure size 432x288 with 1 Axes>"
            ]
          },
          "metadata": {
            "tags": []
          }
        }
      ]
    },
    {
      "cell_type": "code",
      "metadata": {
        "id": "6Vc6PHgxa6Hm",
        "colab_type": "code",
        "colab": {
          "base_uri": "https://localhost:8080/",
          "height": 54
        },
        "outputId": "e609b0d8-af1c-4bef-d052-eeb08a156e24"
      },
      "source": [
        "seed_text = \"Help me Obi Wan Kenobi, you're my only hope\"\n",
        "next_words = 100\n",
        "  \n",
        "for _ in range(next_words):\n",
        "\ttoken_list = tokenizer.texts_to_sequences([seed_text])[0]\n",
        "\ttoken_list = pad_sequences([token_list], maxlen=max_sequence_len-1, padding='pre')\n",
        "\tpredicted = model.predict_classes(token_list, verbose=0)\n",
        "\toutput_word = \"\"\n",
        "\tfor word, index in tokenizer.word_index.items():\n",
        "\t\tif index == predicted:\n",
        "\t\t\toutput_word = word\n",
        "\t\t\tbreak\n",
        "\tseed_text += \" \" + output_word\n",
        "print(seed_text)"
      ],
      "execution_count": 6,
      "outputs": [
        {
          "output_type": "stream",
          "text": [
            "Help me Obi Wan Kenobi, you're my only hope stay his dear sight do remain stay away too wrong leaves spent fired fired taken minds die new dearer brow hate used longer wantonness deem'd twain deem'd blot me happy cheeks pleasure laws decay stand long kind can done kind doth go heaven write old true true sake outworn true youth bring your eye quite much delight eye aside 'will ' add a tribes esteem'd breeds sounds fangled ill eyes as true some knights clearer stay or delight prove prove stay appear burn night days lived aside here back her dear breast new more as not be so thy praise\n"
          ],
          "name": "stdout"
        }
      ]
    },
    {
      "cell_type": "code",
      "metadata": {
        "id": "BvziQxQ_uo1u",
        "colab_type": "code",
        "colab": {}
      },
      "source": [
        ""
      ],
      "execution_count": 0,
      "outputs": []
    }
  ]
}