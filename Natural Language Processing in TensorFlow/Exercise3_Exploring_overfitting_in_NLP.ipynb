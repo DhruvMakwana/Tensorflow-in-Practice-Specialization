{
  "nbformat": 4,
  "nbformat_minor": 0,
  "metadata": {
    "colab": {
      "name": "NLP Course - Week 3 Exercise Question.ipynb",
      "provenance": []
    },
    "kernelspec": {
      "name": "python3",
      "display_name": "Python 3"
    },
    "accelerator": "GPU"
  },
  "cells": [
    {
      "cell_type": "code",
      "metadata": {
        "id": "hmA6EzkQJ5jt",
        "colab_type": "code",
        "colab": {
          "base_uri": "https://localhost:8080/",
          "height": 63
        },
        "outputId": "0506b2c9-3a94-48ce-dce3-f0875b12b97f"
      },
      "source": [
        "import json\n",
        "import tensorflow as tf\n",
        "import csv\n",
        "import random\n",
        "import numpy as np\n",
        "\n",
        "from tensorflow.keras.preprocessing.text import Tokenizer\n",
        "from tensorflow.keras.preprocessing.sequence import pad_sequences\n",
        "from tensorflow.keras.utils import to_categorical\n",
        "from tensorflow.keras import regularizers\n",
        "\n",
        "\n",
        "embedding_dim = 100\n",
        "max_length = 16\n",
        "trunc_type='post'\n",
        "padding_type='post'\n",
        "oov_tok = \"<OOV>\"\n",
        "training_size= 160000 #Your dataset size here. Experiment using smaller values (i.e. 16000), but don't forget to train on at least 160000 to see the best effects\n",
        "test_portion=.1\n",
        "\n",
        "corpus = []\n"
      ],
      "execution_count": 1,
      "outputs": [
        {
          "output_type": "display_data",
          "data": {
            "text/html": [
              "<p style=\"color: red;\">\n",
              "The default version of TensorFlow in Colab will soon switch to TensorFlow 2.x.<br>\n",
              "We recommend you <a href=\"https://www.tensorflow.org/guide/migrate\" target=\"_blank\">upgrade</a> now \n",
              "or ensure your notebook will continue to use TensorFlow 1.x via the <code>%tensorflow_version 1.x</code> magic:\n",
              "<a href=\"https://colab.research.google.com/notebooks/tensorflow_version.ipynb\" target=\"_blank\">more info</a>.</p>\n"
            ],
            "text/plain": [
              "<IPython.core.display.HTML object>"
            ]
          },
          "metadata": {
            "tags": []
          }
        }
      ]
    },
    {
      "cell_type": "code",
      "metadata": {
        "id": "bM0l_dORKqE0",
        "colab_type": "code",
        "outputId": "d96ec0f0-0d75-4389-e5f8-8f3c86134da1",
        "colab": {
          "base_uri": "https://localhost:8080/",
          "height": 204
        }
      },
      "source": [
        "\n",
        "# Note that I cleaned the Stanford dataset to remove LATIN1 encoding to make it easier for Python CSV reader\n",
        "# You can do that yourself with:\n",
        "# iconv -f LATIN1 -t UTF8 training.1600000.processed.noemoticon.csv -o training_cleaned.csv\n",
        "# I then hosted it on my site to make it easier to use in this notebook\n",
        "\n",
        "!wget --no-check-certificate \\\n",
        "    https://storage.googleapis.com/laurencemoroney-blog.appspot.com/training_cleaned.csv \\\n",
        "    -O /tmp/training_cleaned.csv\n",
        "\n",
        "num_sentences = 0\n",
        "\n",
        "with open(\"/tmp/training_cleaned.csv\") as csvfile:\n",
        "    reader = csv.reader(csvfile, delimiter=',')\n",
        "    for row in reader:\n",
        "      # Your Code here. Create list items where the first item is the text, found in row[5], and the second is the label. Note that the label is a '0' or a '4' in the text. When it's the former, make\n",
        "      # your label to be 0, otherwise 1. Keep a count of the number of sentences in num_sentences\n",
        "        list_item=[]\n",
        "        list_item.append(row[5])\n",
        "        this_label=row[0]\n",
        "        if this_label=='0':\n",
        "            list_item.append(0)\n",
        "        else:\n",
        "            list_item.append(1)\n",
        "        # YOUR CODE HERE\n",
        "        num_sentences = num_sentences + 1\n",
        "        corpus.append(list_item)\n",
        "\n",
        "\n"
      ],
      "execution_count": 2,
      "outputs": [
        {
          "output_type": "stream",
          "text": [
            "--2019-12-21 13:15:25--  https://storage.googleapis.com/laurencemoroney-blog.appspot.com/training_cleaned.csv\n",
            "Resolving storage.googleapis.com (storage.googleapis.com)... 74.125.20.128, 2607:f8b0:400e:c03::80\n",
            "Connecting to storage.googleapis.com (storage.googleapis.com)|74.125.20.128|:443... connected.\n",
            "HTTP request sent, awaiting response... 200 OK\n",
            "Length: 238942690 (228M) [application/octet-stream]\n",
            "Saving to: ‘/tmp/training_cleaned.csv’\n",
            "\n",
            "/tmp/training_clean 100%[===================>] 227.87M   152MB/s    in 1.5s    \n",
            "\n",
            "2019-12-21 13:15:31 (152 MB/s) - ‘/tmp/training_cleaned.csv’ saved [238942690/238942690]\n",
            "\n"
          ],
          "name": "stdout"
        }
      ]
    },
    {
      "cell_type": "code",
      "metadata": {
        "id": "3kxblBUjEUX-",
        "colab_type": "code",
        "outputId": "1d5e7186-aa30-48c5-ec90-86efbca2a98c",
        "colab": {
          "base_uri": "https://localhost:8080/",
          "height": 68
        }
      },
      "source": [
        "print(num_sentences)\n",
        "print(len(corpus))\n",
        "print(corpus[1])\n",
        "\n",
        "# Expected Output:\n",
        "# 1600000\n",
        "# 1600000\n",
        "# [\"is upset that he can't update his Facebook by texting it... and might cry as a result  School today also. Blah!\", 0]"
      ],
      "execution_count": 3,
      "outputs": [
        {
          "output_type": "stream",
          "text": [
            "1600000\n",
            "1600000\n",
            "[\"is upset that he can't update his Facebook by texting it... and might cry as a result  School today also. Blah!\", 0]\n"
          ],
          "name": "stdout"
        }
      ]
    },
    {
      "cell_type": "code",
      "metadata": {
        "id": "ohOGz24lsNAD",
        "colab_type": "code",
        "colab": {}
      },
      "source": [
        "sentences=[]\n",
        "labels=[]\n",
        "random.shuffle(corpus)\n",
        "for x in range(training_size):\n",
        "    sentences.append(corpus[x][0])\n",
        "    labels.append(corpus[x][1])\n",
        "\n",
        "\n",
        "tokenizer = Tokenizer()\n",
        "tokenizer.fit_on_texts(sentences)\n",
        "\n",
        "word_index = tokenizer.word_index\n",
        "vocab_size=len(word_index)\n",
        "\n",
        "sequences = tokenizer.texts_to_sequences(sentences)\n",
        "padded = pad_sequences(sequences, maxlen=max_length, padding=padding_type, truncating=trunc_type)\n",
        "\n",
        "split = int(test_portion * training_size)\n",
        "\n",
        "test_sequences = padded[0:split]\n",
        "training_sequences = padded[split:training_size]\n",
        "test_labels = labels[0:split]\n",
        "training_labels = labels[split:training_size]"
      ],
      "execution_count": 0,
      "outputs": []
    },
    {
      "cell_type": "code",
      "metadata": {
        "id": "gIrtRem1En3N",
        "colab_type": "code",
        "outputId": "a331016a-57de-4c4d-e40f-309fc09b59a6",
        "colab": {
          "base_uri": "https://localhost:8080/",
          "height": 51
        }
      },
      "source": [
        "print(vocab_size)\n",
        "print(word_index['i'])\n",
        "# Expected Output\n",
        "# 138858\n",
        "# 1"
      ],
      "execution_count": 5,
      "outputs": [
        {
          "output_type": "stream",
          "text": [
            "138467\n",
            "1\n"
          ],
          "name": "stdout"
        }
      ]
    },
    {
      "cell_type": "code",
      "metadata": {
        "id": "C1zdgJkusRh0",
        "colab_type": "code",
        "outputId": "5fc11beb-4b0d-4ef7-d6d0-cd210b03ed1c",
        "colab": {
          "base_uri": "https://localhost:8080/",
          "height": 204
        }
      },
      "source": [
        "# Note this is the 100 dimension version of GloVe from Stanford\n",
        "# I unzipped and hosted it on my site to make this notebook easier\n",
        "!wget --no-check-certificate \\\n",
        "    https://storage.googleapis.com/laurencemoroney-blog.appspot.com/glove.6B.100d.txt \\\n",
        "    -O /tmp/glove.6B.100d.txt\n",
        "embeddings_index = {};\n",
        "with open('/tmp/glove.6B.100d.txt') as f:\n",
        "    for line in f:\n",
        "        values = line.split();\n",
        "        word = values[0];\n",
        "        coefs = np.asarray(values[1:], dtype='float32');\n",
        "        embeddings_index[word] = coefs;\n",
        "\n",
        "embeddings_matrix = np.zeros((vocab_size+1, embedding_dim));\n",
        "for word, i in word_index.items():\n",
        "    embedding_vector = embeddings_index.get(word);\n",
        "    if embedding_vector is not None:\n",
        "        embeddings_matrix[i] = embedding_vector;"
      ],
      "execution_count": 6,
      "outputs": [
        {
          "output_type": "stream",
          "text": [
            "--2019-12-21 13:15:48--  https://storage.googleapis.com/laurencemoroney-blog.appspot.com/glove.6B.100d.txt\n",
            "Resolving storage.googleapis.com (storage.googleapis.com)... 74.125.197.128, 2607:f8b0:400e:c09::80\n",
            "Connecting to storage.googleapis.com (storage.googleapis.com)|74.125.197.128|:443... connected.\n",
            "HTTP request sent, awaiting response... 200 OK\n",
            "Length: 347116733 (331M) [text/plain]\n",
            "Saving to: ‘/tmp/glove.6B.100d.txt’\n",
            "\n",
            "\r/tmp/glove.6B.100d.   0%[                    ]       0  --.-KB/s               \r/tmp/glove.6B.100d.   2%[                    ]   8.01M  39.5MB/s               \r/tmp/glove.6B.100d.  12%[=>                  ]  40.01M  96.3MB/s               \r/tmp/glove.6B.100d.  29%[====>               ]  96.01M   153MB/s               \r/tmp/glove.6B.100d.  39%[======>             ] 130.24M   157MB/s               \r/tmp/glove.6B.100d.  49%[========>           ] 165.43M   161MB/s               \r/tmp/glove.6B.100d.  61%[===========>        ] 205.06M   167MB/s               \r/tmp/glove.6B.100d.  70%[=============>      ] 232.61M   163MB/s               \r/tmp/glove.6B.100d.  85%[================>   ] 282.17M   173MB/s               \r/tmp/glove.6B.100d.  91%[=================>  ] 304.01M   163MB/s               \r/tmp/glove.6B.100d. 100%[===================>] 331.04M   168MB/s    in 2.0s    \n",
            "\n",
            "2019-12-21 13:15:50 (168 MB/s) - ‘/tmp/glove.6B.100d.txt’ saved [347116733/347116733]\n",
            "\n"
          ],
          "name": "stdout"
        }
      ]
    },
    {
      "cell_type": "code",
      "metadata": {
        "id": "71NLk_lpFLNt",
        "colab_type": "code",
        "outputId": "9d7bc593-2d30-4642-84a9-b5a3b270f342",
        "colab": {
          "base_uri": "https://localhost:8080/",
          "height": 34
        }
      },
      "source": [
        "print(len(embeddings_matrix))\n",
        "# Expected Output\n",
        "# 138859"
      ],
      "execution_count": 7,
      "outputs": [
        {
          "output_type": "stream",
          "text": [
            "138468\n"
          ],
          "name": "stdout"
        }
      ]
    },
    {
      "cell_type": "code",
      "metadata": {
        "colab_type": "code",
        "id": "iKKvbuEBOGFz",
        "colab": {
          "base_uri": "https://localhost:8080/",
          "height": 1000
        },
        "outputId": "9d9db08a-d849-463a-a13c-2459f0a3a74f"
      },
      "source": [
        "model = tf.keras.Sequential([\n",
        "    tf.keras.layers.Embedding(vocab_size+1, embedding_dim, input_length=max_length, weights=[embeddings_matrix], trainable=False),\n",
        "    # YOUR CODE HERE - experiment with combining different types, such as convolutions and LSTMs\n",
        "    tf.keras.layers.Dropout(0.2),\n",
        "    tf.keras.layers.Conv1D(64, 5, activation='relu'),\n",
        "    tf.keras.layers.MaxPooling1D(pool_size=4),\n",
        "    tf.keras.layers.LSTM(64),\n",
        "    tf.keras.layers.Dense(1, activation='sigmoid')\n",
        "])\n",
        "model.compile(loss='binary_crossentropy',optimizer='adam',metrics=['accuracy'])\n",
        "model.summary()\n",
        "\n",
        "num_epochs = 50\n",
        "history = model.fit(training_sequences, training_labels, epochs=num_epochs, validation_data=(test_sequences, test_labels), verbose=2)\n",
        "\n",
        "print(\"Training Complete\")\n"
      ],
      "execution_count": 8,
      "outputs": [
        {
          "output_type": "stream",
          "text": [
            "WARNING:tensorflow:From /usr/local/lib/python3.6/dist-packages/tensorflow_core/python/keras/initializers.py:119: calling RandomUniform.__init__ (from tensorflow.python.ops.init_ops) with dtype is deprecated and will be removed in a future version.\n",
            "Instructions for updating:\n",
            "Call initializer instance with the dtype argument instead of passing it to the constructor\n",
            "WARNING:tensorflow:From /usr/local/lib/python3.6/dist-packages/tensorflow_core/python/ops/resource_variable_ops.py:1630: calling BaseResourceVariable.__init__ (from tensorflow.python.ops.resource_variable_ops) with constraint is deprecated and will be removed in a future version.\n",
            "Instructions for updating:\n",
            "If using Keras pass *_constraint arguments to layers.\n",
            "WARNING:tensorflow:From /usr/local/lib/python3.6/dist-packages/tensorflow_core/python/ops/nn_impl.py:183: where (from tensorflow.python.ops.array_ops) is deprecated and will be removed in a future version.\n",
            "Instructions for updating:\n",
            "Use tf.where in 2.0, which has the same broadcast rule as np.where\n",
            "Model: \"sequential\"\n",
            "_________________________________________________________________\n",
            "Layer (type)                 Output Shape              Param #   \n",
            "=================================================================\n",
            "embedding (Embedding)        (None, 16, 100)           13846800  \n",
            "_________________________________________________________________\n",
            "dropout (Dropout)            (None, 16, 100)           0         \n",
            "_________________________________________________________________\n",
            "conv1d (Conv1D)              (None, 12, 64)            32064     \n",
            "_________________________________________________________________\n",
            "max_pooling1d (MaxPooling1D) (None, 3, 64)             0         \n",
            "_________________________________________________________________\n",
            "lstm (LSTM)                  (None, 64)                33024     \n",
            "_________________________________________________________________\n",
            "dense (Dense)                (None, 1)                 65        \n",
            "=================================================================\n",
            "Total params: 13,911,953\n",
            "Trainable params: 65,153\n",
            "Non-trainable params: 13,846,800\n",
            "_________________________________________________________________\n",
            "Train on 144000 samples, validate on 16000 samples\n",
            "Epoch 1/50\n",
            "144000/144000 - 36s - loss: 0.5668 - acc: 0.7005 - val_loss: 0.5205 - val_acc: 0.7359\n",
            "Epoch 2/50\n",
            "144000/144000 - 30s - loss: 0.5264 - acc: 0.7319 - val_loss: 0.5068 - val_acc: 0.7458\n",
            "Epoch 3/50\n",
            "144000/144000 - 30s - loss: 0.5090 - acc: 0.7456 - val_loss: 0.5024 - val_acc: 0.7526\n",
            "Epoch 4/50\n",
            "144000/144000 - 30s - loss: 0.4973 - acc: 0.7532 - val_loss: 0.5025 - val_acc: 0.7524\n",
            "Epoch 5/50\n",
            "144000/144000 - 30s - loss: 0.4897 - acc: 0.7596 - val_loss: 0.4942 - val_acc: 0.7552\n",
            "Epoch 6/50\n",
            "144000/144000 - 30s - loss: 0.4820 - acc: 0.7631 - val_loss: 0.4933 - val_acc: 0.7541\n",
            "Epoch 7/50\n",
            "144000/144000 - 30s - loss: 0.4766 - acc: 0.7673 - val_loss: 0.4974 - val_acc: 0.7527\n",
            "Epoch 8/50\n",
            "144000/144000 - 30s - loss: 0.4707 - acc: 0.7712 - val_loss: 0.4936 - val_acc: 0.7556\n",
            "Epoch 9/50\n",
            "144000/144000 - 30s - loss: 0.4670 - acc: 0.7730 - val_loss: 0.4967 - val_acc: 0.7523\n",
            "Epoch 10/50\n",
            "144000/144000 - 30s - loss: 0.4627 - acc: 0.7764 - val_loss: 0.4987 - val_acc: 0.7563\n",
            "Epoch 11/50\n",
            "144000/144000 - 30s - loss: 0.4592 - acc: 0.7784 - val_loss: 0.5001 - val_acc: 0.7536\n",
            "Epoch 12/50\n",
            "144000/144000 - 30s - loss: 0.4566 - acc: 0.7800 - val_loss: 0.4990 - val_acc: 0.7535\n",
            "Epoch 13/50\n",
            "144000/144000 - 30s - loss: 0.4543 - acc: 0.7807 - val_loss: 0.5112 - val_acc: 0.7484\n",
            "Epoch 14/50\n",
            "144000/144000 - 30s - loss: 0.4508 - acc: 0.7831 - val_loss: 0.5039 - val_acc: 0.7538\n",
            "Epoch 15/50\n",
            "144000/144000 - 30s - loss: 0.4483 - acc: 0.7843 - val_loss: 0.5059 - val_acc: 0.7561\n",
            "Epoch 16/50\n",
            "144000/144000 - 30s - loss: 0.4482 - acc: 0.7839 - val_loss: 0.5063 - val_acc: 0.7541\n",
            "Epoch 17/50\n",
            "144000/144000 - 30s - loss: 0.4453 - acc: 0.7863 - val_loss: 0.5011 - val_acc: 0.7542\n",
            "Epoch 18/50\n",
            "144000/144000 - 30s - loss: 0.4430 - acc: 0.7872 - val_loss: 0.5016 - val_acc: 0.7512\n",
            "Epoch 19/50\n",
            "144000/144000 - 30s - loss: 0.4426 - acc: 0.7888 - val_loss: 0.5095 - val_acc: 0.7523\n",
            "Epoch 20/50\n",
            "144000/144000 - 30s - loss: 0.4410 - acc: 0.7894 - val_loss: 0.5071 - val_acc: 0.7491\n",
            "Epoch 21/50\n",
            "144000/144000 - 30s - loss: 0.4412 - acc: 0.7882 - val_loss: 0.5065 - val_acc: 0.7524\n",
            "Epoch 22/50\n",
            "144000/144000 - 30s - loss: 0.4392 - acc: 0.7895 - val_loss: 0.5079 - val_acc: 0.7548\n",
            "Epoch 23/50\n",
            "144000/144000 - 30s - loss: 0.4393 - acc: 0.7895 - val_loss: 0.5144 - val_acc: 0.7488\n",
            "Epoch 24/50\n",
            "144000/144000 - 29s - loss: 0.4378 - acc: 0.7910 - val_loss: 0.5084 - val_acc: 0.7546\n",
            "Epoch 25/50\n",
            "144000/144000 - 29s - loss: 0.4358 - acc: 0.7928 - val_loss: 0.5113 - val_acc: 0.7513\n",
            "Epoch 26/50\n",
            "144000/144000 - 29s - loss: 0.4368 - acc: 0.7903 - val_loss: 0.5088 - val_acc: 0.7530\n",
            "Epoch 27/50\n",
            "144000/144000 - 29s - loss: 0.4351 - acc: 0.7927 - val_loss: 0.5163 - val_acc: 0.7464\n",
            "Epoch 28/50\n",
            "144000/144000 - 29s - loss: 0.4354 - acc: 0.7928 - val_loss: 0.5109 - val_acc: 0.7512\n",
            "Epoch 29/50\n",
            "144000/144000 - 30s - loss: 0.4333 - acc: 0.7937 - val_loss: 0.5126 - val_acc: 0.7511\n",
            "Epoch 30/50\n",
            "144000/144000 - 29s - loss: 0.4335 - acc: 0.7923 - val_loss: 0.5091 - val_acc: 0.7479\n",
            "Epoch 31/50\n",
            "144000/144000 - 29s - loss: 0.4338 - acc: 0.7933 - val_loss: 0.5116 - val_acc: 0.7494\n",
            "Epoch 32/50\n",
            "144000/144000 - 29s - loss: 0.4321 - acc: 0.7950 - val_loss: 0.5126 - val_acc: 0.7476\n",
            "Epoch 33/50\n",
            "144000/144000 - 29s - loss: 0.4306 - acc: 0.7963 - val_loss: 0.5123 - val_acc: 0.7505\n",
            "Epoch 34/50\n",
            "144000/144000 - 29s - loss: 0.4305 - acc: 0.7956 - val_loss: 0.5109 - val_acc: 0.7544\n",
            "Epoch 35/50\n",
            "144000/144000 - 29s - loss: 0.4290 - acc: 0.7967 - val_loss: 0.5104 - val_acc: 0.7517\n",
            "Epoch 36/50\n",
            "144000/144000 - 29s - loss: 0.4301 - acc: 0.7953 - val_loss: 0.5168 - val_acc: 0.7505\n",
            "Epoch 37/50\n",
            "144000/144000 - 30s - loss: 0.4288 - acc: 0.7952 - val_loss: 0.5091 - val_acc: 0.7477\n",
            "Epoch 38/50\n",
            "144000/144000 - 29s - loss: 0.4299 - acc: 0.7955 - val_loss: 0.5179 - val_acc: 0.7489\n",
            "Epoch 39/50\n",
            "144000/144000 - 29s - loss: 0.4296 - acc: 0.7956 - val_loss: 0.5111 - val_acc: 0.7506\n",
            "Epoch 40/50\n",
            "144000/144000 - 30s - loss: 0.4294 - acc: 0.7964 - val_loss: 0.5155 - val_acc: 0.7484\n",
            "Epoch 41/50\n",
            "144000/144000 - 29s - loss: 0.4280 - acc: 0.7966 - val_loss: 0.5162 - val_acc: 0.7456\n",
            "Epoch 42/50\n",
            "144000/144000 - 29s - loss: 0.4268 - acc: 0.7971 - val_loss: 0.5149 - val_acc: 0.7501\n",
            "Epoch 43/50\n",
            "144000/144000 - 29s - loss: 0.4270 - acc: 0.7975 - val_loss: 0.5164 - val_acc: 0.7488\n",
            "Epoch 44/50\n",
            "144000/144000 - 29s - loss: 0.4276 - acc: 0.7961 - val_loss: 0.5124 - val_acc: 0.7520\n",
            "Epoch 45/50\n",
            "144000/144000 - 29s - loss: 0.4272 - acc: 0.7977 - val_loss: 0.5129 - val_acc: 0.7504\n",
            "Epoch 46/50\n",
            "144000/144000 - 29s - loss: 0.4259 - acc: 0.7985 - val_loss: 0.5164 - val_acc: 0.7476\n",
            "Epoch 47/50\n",
            "144000/144000 - 29s - loss: 0.4273 - acc: 0.7971 - val_loss: 0.5122 - val_acc: 0.7487\n",
            "Epoch 48/50\n",
            "144000/144000 - 29s - loss: 0.4281 - acc: 0.7958 - val_loss: 0.5165 - val_acc: 0.7502\n",
            "Epoch 49/50\n",
            "144000/144000 - 29s - loss: 0.4269 - acc: 0.7979 - val_loss: 0.5188 - val_acc: 0.7494\n",
            "Epoch 50/50\n",
            "144000/144000 - 29s - loss: 0.4267 - acc: 0.7983 - val_loss: 0.5183 - val_acc: 0.7486\n",
            "Training Complete\n"
          ],
          "name": "stdout"
        }
      ]
    },
    {
      "cell_type": "code",
      "metadata": {
        "id": "qxju4ItJKO8F",
        "colab_type": "code",
        "colab": {
          "base_uri": "https://localhost:8080/",
          "height": 607
        },
        "outputId": "8af23ed2-755e-439f-e599-cc7bf65abd59"
      },
      "source": [
        "import matplotlib.image  as mpimg\n",
        "import matplotlib.pyplot as plt\n",
        "\n",
        "#-----------------------------------------------------------\n",
        "# Retrieve a list of list results on training and test data\n",
        "# sets for each training epoch\n",
        "#-----------------------------------------------------------\n",
        "acc=history.history['acc']\n",
        "val_acc=history.history['val_acc']\n",
        "loss=history.history['loss']\n",
        "val_loss=history.history['val_loss']\n",
        "\n",
        "epochs=range(len(acc)) # Get number of epochs\n",
        "\n",
        "#------------------------------------------------\n",
        "# Plot training and validation accuracy per epoch\n",
        "#------------------------------------------------\n",
        "plt.plot(epochs, acc, 'r')\n",
        "plt.plot(epochs, val_acc, 'b')\n",
        "plt.title('Training and validation accuracy')\n",
        "plt.xlabel(\"Epochs\")\n",
        "plt.ylabel(\"Accuracy\")\n",
        "plt.legend([\"Accuracy\", \"Validation Accuracy\"])\n",
        "\n",
        "plt.figure()\n",
        "\n",
        "#------------------------------------------------\n",
        "# Plot training and validation loss per epoch\n",
        "#------------------------------------------------\n",
        "plt.plot(epochs, loss, 'r')\n",
        "plt.plot(epochs, val_loss, 'b')\n",
        "plt.title('Training and validation loss')\n",
        "plt.xlabel(\"Epochs\")\n",
        "plt.ylabel(\"Loss\")\n",
        "plt.legend([\"Loss\", \"Validation Loss\"])\n",
        "\n",
        "plt.figure()\n",
        "\n",
        "\n",
        "# Expected Output\n",
        "# A chart where the validation loss does not increase sharply!"
      ],
      "execution_count": 9,
      "outputs": [
        {
          "output_type": "execute_result",
          "data": {
            "text/plain": [
              "<Figure size 432x288 with 0 Axes>"
            ]
          },
          "metadata": {
            "tags": []
          },
          "execution_count": 9
        },
        {
          "output_type": "display_data",
          "data": {
            "image/png": "[encoded data removed]",
            "text/plain": [
              "<Figure size 432x288 with 1 Axes>"
            ]
          },
          "metadata": {
            "tags": []
          }
        },
        {
          "output_type": "display_data",
          "data": {
            "image/png": "[encoded data removed]",
            "text/plain": [
              "<Figure size 432x288 with 1 Axes>"
            ]
          },
          "metadata": {
            "tags": []
          }
        },
        {
          "output_type": "display_data",
          "data": {
            "text/plain": [
              "<Figure size 432x288 with 0 Axes>"
            ]
          },
          "metadata": {
            "tags": []
          }
        }
      ]
    },
    {
      "cell_type": "code",
      "metadata": {
        "id": "dWBgQbgJaP35",
        "colab_type": "code",
        "colab": {}
      },
      "source": [
        ""
      ],
      "execution_count": 0,
      "outputs": []
    }
  ]
}